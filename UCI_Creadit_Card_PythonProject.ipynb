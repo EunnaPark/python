{
 "cells": [
  {
   "cell_type": "code",
   "execution_count": 39,
   "metadata": {},
   "outputs": [],
   "source": [
    "# Import basic libraries\n",
    "import numpy as np # linear algebra\n",
    "import pandas as pd # data processing, CSV file I/O (e.g. pd.read_csv)\n",
    "\n",
    "# import visualization libraries\n",
    "import seaborn as sns\n",
    "import matplotlib.pyplot as plt\n",
    "\n",
    "#importing libraries\n",
    "from sklearn.tree import DecisionTreeClassifier\n",
    "from sklearn.metrics import accuracy_score, make_scorer\n",
    "from sklearn.model_selection import train_test_split\n",
    "from sklearn.model_selection import KFold\n",
    "from sklearn.model_selection import GridSearchCV\n",
    "\n",
    "\n",
    "%matplotlib inline"
   ]
  },
  {
   "cell_type": "markdown",
   "metadata": {},
   "source": [
    "\"\"\"\n",
    "There are 25 variables:\n",
    "\n",
    "ID: ID of each client\n",
    "LIMIT_BAL: Amount of given credit in NT dollars (includes individual and family/supplementary credit\n",
    "SEX: Gender (1=male, 2=female)\n",
    "EDUCATION: (1=graduate school, 2=university, 3=high school, 4=others, 5=unknown, 6=unknown)\n",
    "MARRIAGE: Marital status (1=married, 2=single, 3=others)\n",
    "AGE: Age in years\n",
    "PAY_0: Repayment status in September, 2005 (-1=pay duly, 1=payment delay for one month, 2=payment delay for two months, ... 8=payment delay for eight months, 9=payment delay for nine months and above)\n",
    "PAY_2: Repayment status in August, 2005 (scale same as above)\n",
    "PAY_3: Repayment status in July, 2005 (scale same as above)\n",
    "PAY_4: Repayment status in June, 2005 (scale same as above)\n",
    "PAY_5: Repayment status in May, 2005 (scale same as above)\n",
    "PAY_6: Repayment status in April, 2005 (scale same as above)\n",
    "BILL_AMT1: Amount of bill statement in September, 2005 (NT dollar)\n",
    "BILL_AMT2: Amount of bill statement in August, 2005 (NT dollar)\n",
    "BILL_AMT3: Amount of bill statement in July, 2005 (NT dollar)\n",
    "BILL_AMT4: Amount of bill statement in June, 2005 (NT dollar)\n",
    "BILL_AMT5: Amount of bill statement in May, 2005 (NT dollar)\n",
    "BILL_AMT6: Amount of bill statement in April, 2005 (NT dollar)\n",
    "PAY_AMT1: Amount of previous payment in September, 2005 (NT dollar)\n",
    "PAY_AMT2: Amount of previous payment in August, 2005 (NT dollar)\n",
    "PAY_AMT3: Amount of previous payment in July, 2005 (NT dollar)\n",
    "PAY_AMT4: Amount of previous payment in June, 2005 (NT dollar)\n",
    "PAY_AMT5: Amount of previous payment in May, 2005 (NT dollar)\n",
    "PAY_AMT6: Amount of previous payment in April, 2005 (NT dollar)\n",
    "default.payment.next.month: Default payment (1=yes, 0=no)\n",
    "\"\"\""
   ]
  },
  {
   "cell_type": "code",
   "execution_count": null,
   "metadata": {},
   "outputs": [],
   "source": []
  },
  {
   "cell_type": "code",
   "execution_count": 40,
   "metadata": {
    "scrolled": true
   },
   "outputs": [
    {
     "data": {
      "text/html": [
       "<div>\n",
       "<style scoped>\n",
       "    .dataframe tbody tr th:only-of-type {\n",
       "        vertical-align: middle;\n",
       "    }\n",
       "\n",
       "    .dataframe tbody tr th {\n",
       "        vertical-align: top;\n",
       "    }\n",
       "\n",
       "    .dataframe thead th {\n",
       "        text-align: right;\n",
       "    }\n",
       "</style>\n",
       "<table border=\"1\" class=\"dataframe\">\n",
       "  <thead>\n",
       "    <tr style=\"text-align: right;\">\n",
       "      <th></th>\n",
       "      <th>ID</th>\n",
       "      <th>LIMIT_BAL</th>\n",
       "      <th>SEX</th>\n",
       "      <th>EDUCATION</th>\n",
       "      <th>MARRIAGE</th>\n",
       "      <th>AGE</th>\n",
       "      <th>PAY_0</th>\n",
       "      <th>PAY_2</th>\n",
       "      <th>PAY_3</th>\n",
       "      <th>PAY_4</th>\n",
       "      <th>...</th>\n",
       "      <th>BILL_AMT4</th>\n",
       "      <th>BILL_AMT5</th>\n",
       "      <th>BILL_AMT6</th>\n",
       "      <th>PAY_AMT1</th>\n",
       "      <th>PAY_AMT2</th>\n",
       "      <th>PAY_AMT3</th>\n",
       "      <th>PAY_AMT4</th>\n",
       "      <th>PAY_AMT5</th>\n",
       "      <th>PAY_AMT6</th>\n",
       "      <th>default.payment.next.month</th>\n",
       "    </tr>\n",
       "  </thead>\n",
       "  <tbody>\n",
       "    <tr>\n",
       "      <td>0</td>\n",
       "      <td>1</td>\n",
       "      <td>20000.0</td>\n",
       "      <td>2</td>\n",
       "      <td>2</td>\n",
       "      <td>1</td>\n",
       "      <td>24</td>\n",
       "      <td>2</td>\n",
       "      <td>2</td>\n",
       "      <td>-1</td>\n",
       "      <td>-1</td>\n",
       "      <td>...</td>\n",
       "      <td>0.0</td>\n",
       "      <td>0.0</td>\n",
       "      <td>0.0</td>\n",
       "      <td>0.0</td>\n",
       "      <td>689.0</td>\n",
       "      <td>0.0</td>\n",
       "      <td>0.0</td>\n",
       "      <td>0.0</td>\n",
       "      <td>0.0</td>\n",
       "      <td>1</td>\n",
       "    </tr>\n",
       "    <tr>\n",
       "      <td>1</td>\n",
       "      <td>2</td>\n",
       "      <td>120000.0</td>\n",
       "      <td>2</td>\n",
       "      <td>2</td>\n",
       "      <td>2</td>\n",
       "      <td>26</td>\n",
       "      <td>-1</td>\n",
       "      <td>2</td>\n",
       "      <td>0</td>\n",
       "      <td>0</td>\n",
       "      <td>...</td>\n",
       "      <td>3272.0</td>\n",
       "      <td>3455.0</td>\n",
       "      <td>3261.0</td>\n",
       "      <td>0.0</td>\n",
       "      <td>1000.0</td>\n",
       "      <td>1000.0</td>\n",
       "      <td>1000.0</td>\n",
       "      <td>0.0</td>\n",
       "      <td>2000.0</td>\n",
       "      <td>1</td>\n",
       "    </tr>\n",
       "    <tr>\n",
       "      <td>2</td>\n",
       "      <td>3</td>\n",
       "      <td>90000.0</td>\n",
       "      <td>2</td>\n",
       "      <td>2</td>\n",
       "      <td>2</td>\n",
       "      <td>34</td>\n",
       "      <td>0</td>\n",
       "      <td>0</td>\n",
       "      <td>0</td>\n",
       "      <td>0</td>\n",
       "      <td>...</td>\n",
       "      <td>14331.0</td>\n",
       "      <td>14948.0</td>\n",
       "      <td>15549.0</td>\n",
       "      <td>1518.0</td>\n",
       "      <td>1500.0</td>\n",
       "      <td>1000.0</td>\n",
       "      <td>1000.0</td>\n",
       "      <td>1000.0</td>\n",
       "      <td>5000.0</td>\n",
       "      <td>0</td>\n",
       "    </tr>\n",
       "    <tr>\n",
       "      <td>3</td>\n",
       "      <td>4</td>\n",
       "      <td>50000.0</td>\n",
       "      <td>2</td>\n",
       "      <td>2</td>\n",
       "      <td>1</td>\n",
       "      <td>37</td>\n",
       "      <td>0</td>\n",
       "      <td>0</td>\n",
       "      <td>0</td>\n",
       "      <td>0</td>\n",
       "      <td>...</td>\n",
       "      <td>28314.0</td>\n",
       "      <td>28959.0</td>\n",
       "      <td>29547.0</td>\n",
       "      <td>2000.0</td>\n",
       "      <td>2019.0</td>\n",
       "      <td>1200.0</td>\n",
       "      <td>1100.0</td>\n",
       "      <td>1069.0</td>\n",
       "      <td>1000.0</td>\n",
       "      <td>0</td>\n",
       "    </tr>\n",
       "    <tr>\n",
       "      <td>4</td>\n",
       "      <td>5</td>\n",
       "      <td>50000.0</td>\n",
       "      <td>1</td>\n",
       "      <td>2</td>\n",
       "      <td>1</td>\n",
       "      <td>57</td>\n",
       "      <td>-1</td>\n",
       "      <td>0</td>\n",
       "      <td>-1</td>\n",
       "      <td>0</td>\n",
       "      <td>...</td>\n",
       "      <td>20940.0</td>\n",
       "      <td>19146.0</td>\n",
       "      <td>19131.0</td>\n",
       "      <td>2000.0</td>\n",
       "      <td>36681.0</td>\n",
       "      <td>10000.0</td>\n",
       "      <td>9000.0</td>\n",
       "      <td>689.0</td>\n",
       "      <td>679.0</td>\n",
       "      <td>0</td>\n",
       "    </tr>\n",
       "    <tr>\n",
       "      <td>5</td>\n",
       "      <td>6</td>\n",
       "      <td>50000.0</td>\n",
       "      <td>1</td>\n",
       "      <td>1</td>\n",
       "      <td>2</td>\n",
       "      <td>37</td>\n",
       "      <td>0</td>\n",
       "      <td>0</td>\n",
       "      <td>0</td>\n",
       "      <td>0</td>\n",
       "      <td>...</td>\n",
       "      <td>19394.0</td>\n",
       "      <td>19619.0</td>\n",
       "      <td>20024.0</td>\n",
       "      <td>2500.0</td>\n",
       "      <td>1815.0</td>\n",
       "      <td>657.0</td>\n",
       "      <td>1000.0</td>\n",
       "      <td>1000.0</td>\n",
       "      <td>800.0</td>\n",
       "      <td>0</td>\n",
       "    </tr>\n",
       "    <tr>\n",
       "      <td>6</td>\n",
       "      <td>7</td>\n",
       "      <td>500000.0</td>\n",
       "      <td>1</td>\n",
       "      <td>1</td>\n",
       "      <td>2</td>\n",
       "      <td>29</td>\n",
       "      <td>0</td>\n",
       "      <td>0</td>\n",
       "      <td>0</td>\n",
       "      <td>0</td>\n",
       "      <td>...</td>\n",
       "      <td>542653.0</td>\n",
       "      <td>483003.0</td>\n",
       "      <td>473944.0</td>\n",
       "      <td>55000.0</td>\n",
       "      <td>40000.0</td>\n",
       "      <td>38000.0</td>\n",
       "      <td>20239.0</td>\n",
       "      <td>13750.0</td>\n",
       "      <td>13770.0</td>\n",
       "      <td>0</td>\n",
       "    </tr>\n",
       "    <tr>\n",
       "      <td>7</td>\n",
       "      <td>8</td>\n",
       "      <td>100000.0</td>\n",
       "      <td>2</td>\n",
       "      <td>2</td>\n",
       "      <td>2</td>\n",
       "      <td>23</td>\n",
       "      <td>0</td>\n",
       "      <td>-1</td>\n",
       "      <td>-1</td>\n",
       "      <td>0</td>\n",
       "      <td>...</td>\n",
       "      <td>221.0</td>\n",
       "      <td>-159.0</td>\n",
       "      <td>567.0</td>\n",
       "      <td>380.0</td>\n",
       "      <td>601.0</td>\n",
       "      <td>0.0</td>\n",
       "      <td>581.0</td>\n",
       "      <td>1687.0</td>\n",
       "      <td>1542.0</td>\n",
       "      <td>0</td>\n",
       "    </tr>\n",
       "    <tr>\n",
       "      <td>8</td>\n",
       "      <td>9</td>\n",
       "      <td>140000.0</td>\n",
       "      <td>2</td>\n",
       "      <td>3</td>\n",
       "      <td>1</td>\n",
       "      <td>28</td>\n",
       "      <td>0</td>\n",
       "      <td>0</td>\n",
       "      <td>2</td>\n",
       "      <td>0</td>\n",
       "      <td>...</td>\n",
       "      <td>12211.0</td>\n",
       "      <td>11793.0</td>\n",
       "      <td>3719.0</td>\n",
       "      <td>3329.0</td>\n",
       "      <td>0.0</td>\n",
       "      <td>432.0</td>\n",
       "      <td>1000.0</td>\n",
       "      <td>1000.0</td>\n",
       "      <td>1000.0</td>\n",
       "      <td>0</td>\n",
       "    </tr>\n",
       "    <tr>\n",
       "      <td>9</td>\n",
       "      <td>10</td>\n",
       "      <td>20000.0</td>\n",
       "      <td>1</td>\n",
       "      <td>3</td>\n",
       "      <td>2</td>\n",
       "      <td>35</td>\n",
       "      <td>-2</td>\n",
       "      <td>-2</td>\n",
       "      <td>-2</td>\n",
       "      <td>-2</td>\n",
       "      <td>...</td>\n",
       "      <td>0.0</td>\n",
       "      <td>13007.0</td>\n",
       "      <td>13912.0</td>\n",
       "      <td>0.0</td>\n",
       "      <td>0.0</td>\n",
       "      <td>0.0</td>\n",
       "      <td>13007.0</td>\n",
       "      <td>1122.0</td>\n",
       "      <td>0.0</td>\n",
       "      <td>0</td>\n",
       "    </tr>\n",
       "  </tbody>\n",
       "</table>\n",
       "<p>10 rows × 25 columns</p>\n",
       "</div>"
      ],
      "text/plain": [
       "   ID  LIMIT_BAL  SEX  EDUCATION  MARRIAGE  AGE  PAY_0  PAY_2  PAY_3  PAY_4  \\\n",
       "0   1    20000.0    2          2         1   24      2      2     -1     -1   \n",
       "1   2   120000.0    2          2         2   26     -1      2      0      0   \n",
       "2   3    90000.0    2          2         2   34      0      0      0      0   \n",
       "3   4    50000.0    2          2         1   37      0      0      0      0   \n",
       "4   5    50000.0    1          2         1   57     -1      0     -1      0   \n",
       "5   6    50000.0    1          1         2   37      0      0      0      0   \n",
       "6   7   500000.0    1          1         2   29      0      0      0      0   \n",
       "7   8   100000.0    2          2         2   23      0     -1     -1      0   \n",
       "8   9   140000.0    2          3         1   28      0      0      2      0   \n",
       "9  10    20000.0    1          3         2   35     -2     -2     -2     -2   \n",
       "\n",
       "   ...  BILL_AMT4  BILL_AMT5  BILL_AMT6  PAY_AMT1  PAY_AMT2  PAY_AMT3  \\\n",
       "0  ...        0.0        0.0        0.0       0.0     689.0       0.0   \n",
       "1  ...     3272.0     3455.0     3261.0       0.0    1000.0    1000.0   \n",
       "2  ...    14331.0    14948.0    15549.0    1518.0    1500.0    1000.0   \n",
       "3  ...    28314.0    28959.0    29547.0    2000.0    2019.0    1200.0   \n",
       "4  ...    20940.0    19146.0    19131.0    2000.0   36681.0   10000.0   \n",
       "5  ...    19394.0    19619.0    20024.0    2500.0    1815.0     657.0   \n",
       "6  ...   542653.0   483003.0   473944.0   55000.0   40000.0   38000.0   \n",
       "7  ...      221.0     -159.0      567.0     380.0     601.0       0.0   \n",
       "8  ...    12211.0    11793.0     3719.0    3329.0       0.0     432.0   \n",
       "9  ...        0.0    13007.0    13912.0       0.0       0.0       0.0   \n",
       "\n",
       "   PAY_AMT4  PAY_AMT5  PAY_AMT6  default.payment.next.month  \n",
       "0       0.0       0.0       0.0                           1  \n",
       "1    1000.0       0.0    2000.0                           1  \n",
       "2    1000.0    1000.0    5000.0                           0  \n",
       "3    1100.0    1069.0    1000.0                           0  \n",
       "4    9000.0     689.0     679.0                           0  \n",
       "5    1000.0    1000.0     800.0                           0  \n",
       "6   20239.0   13750.0   13770.0                           0  \n",
       "7     581.0    1687.0    1542.0                           0  \n",
       "8    1000.0    1000.0    1000.0                           0  \n",
       "9   13007.0    1122.0       0.0                           0  \n",
       "\n",
       "[10 rows x 25 columns]"
      ]
     },
     "execution_count": 40,
     "metadata": {},
     "output_type": "execute_result"
    }
   ],
   "source": [
    "df = pd.read_csv('UCI_Credit_Card.csv')\n",
    "df.head(10)"
   ]
  },
  {
   "cell_type": "code",
   "execution_count": 4,
   "metadata": {
    "scrolled": false
   },
   "outputs": [
    {
     "data": {
      "text/plain": [
       "<bound method DataFrame.info of           ID  LIMIT_BAL  SEX  EDUCATION  MARRIAGE  AGE  PAY_0  PAY_2  PAY_3  \\\n",
       "0          1    20000.0    2          2         1   24      2      2     -1   \n",
       "1          2   120000.0    2          2         2   26     -1      2      0   \n",
       "2          3    90000.0    2          2         2   34      0      0      0   \n",
       "3          4    50000.0    2          2         1   37      0      0      0   \n",
       "4          5    50000.0    1          2         1   57     -1      0     -1   \n",
       "...      ...        ...  ...        ...       ...  ...    ...    ...    ...   \n",
       "29995  29996   220000.0    1          3         1   39      0      0      0   \n",
       "29996  29997   150000.0    1          3         2   43     -1     -1     -1   \n",
       "29997  29998    30000.0    1          2         2   37      4      3      2   \n",
       "29998  29999    80000.0    1          3         1   41      1     -1      0   \n",
       "29999  30000    50000.0    1          2         1   46      0      0      0   \n",
       "\n",
       "       PAY_4  ...  BILL_AMT4  BILL_AMT5  BILL_AMT6  PAY_AMT1  PAY_AMT2  \\\n",
       "0         -1  ...        0.0        0.0        0.0       0.0     689.0   \n",
       "1          0  ...     3272.0     3455.0     3261.0       0.0    1000.0   \n",
       "2          0  ...    14331.0    14948.0    15549.0    1518.0    1500.0   \n",
       "3          0  ...    28314.0    28959.0    29547.0    2000.0    2019.0   \n",
       "4          0  ...    20940.0    19146.0    19131.0    2000.0   36681.0   \n",
       "...      ...  ...        ...        ...        ...       ...       ...   \n",
       "29995      0  ...    88004.0    31237.0    15980.0    8500.0   20000.0   \n",
       "29996     -1  ...     8979.0     5190.0        0.0    1837.0    3526.0   \n",
       "29997     -1  ...    20878.0    20582.0    19357.0       0.0       0.0   \n",
       "29998      0  ...    52774.0    11855.0    48944.0   85900.0    3409.0   \n",
       "29999      0  ...    36535.0    32428.0    15313.0    2078.0    1800.0   \n",
       "\n",
       "       PAY_AMT3  PAY_AMT4  PAY_AMT5  PAY_AMT6  default.payment.next.month  \n",
       "0           0.0       0.0       0.0       0.0                           1  \n",
       "1        1000.0    1000.0       0.0    2000.0                           1  \n",
       "2        1000.0    1000.0    1000.0    5000.0                           0  \n",
       "3        1200.0    1100.0    1069.0    1000.0                           0  \n",
       "4       10000.0    9000.0     689.0     679.0                           0  \n",
       "...         ...       ...       ...       ...                         ...  \n",
       "29995    5003.0    3047.0    5000.0    1000.0                           0  \n",
       "29996    8998.0     129.0       0.0       0.0                           0  \n",
       "29997   22000.0    4200.0    2000.0    3100.0                           1  \n",
       "29998    1178.0    1926.0   52964.0    1804.0                           1  \n",
       "29999    1430.0    1000.0    1000.0    1000.0                           1  \n",
       "\n",
       "[30000 rows x 25 columns]>"
      ]
     },
     "execution_count": 4,
     "metadata": {},
     "output_type": "execute_result"
    }
   ],
   "source": [
    "df.info"
   ]
  },
  {
   "cell_type": "code",
   "execution_count": 41,
   "metadata": {},
   "outputs": [],
   "source": [
    "#change column name for maintaining consistency and long name\n",
    "df = df.rename(columns={'default.payment.next.month': 'pred_pay', \n",
    "                        'PAY_0': 'PAY_1'})"
   ]
  },
  {
   "cell_type": "code",
   "execution_count": 42,
   "metadata": {},
   "outputs": [
    {
     "data": {
      "text/plain": [
       "0    23364\n",
       "1     6636\n",
       "Name: pred_pay, dtype: int64"
      ]
     },
     "execution_count": 42,
     "metadata": {},
     "output_type": "execute_result"
    }
   ],
   "source": [
    "df[\"pred_pay\"].value_counts() # 1=yes, 0=no"
   ]
  },
  {
   "cell_type": "code",
   "execution_count": 43,
   "metadata": {},
   "outputs": [
    {
     "data": {
      "text/plain": [
       "Index(['ID', 'LIMIT_BAL', 'SEX', 'EDUCATION', 'MARRIAGE', 'AGE', 'PAY_1',\n",
       "       'PAY_2', 'PAY_3', 'PAY_4', 'PAY_5', 'PAY_6', 'BILL_AMT1', 'BILL_AMT2',\n",
       "       'BILL_AMT3', 'BILL_AMT4', 'BILL_AMT5', 'BILL_AMT6', 'PAY_AMT1',\n",
       "       'PAY_AMT2', 'PAY_AMT3', 'PAY_AMT4', 'PAY_AMT5', 'PAY_AMT6', 'pred_pay'],\n",
       "      dtype='object')"
      ]
     },
     "execution_count": 43,
     "metadata": {},
     "output_type": "execute_result"
    }
   ],
   "source": [
    "df.columns"
   ]
  },
  {
   "cell_type": "code",
   "execution_count": 44,
   "metadata": {},
   "outputs": [
    {
     "name": "stdout",
     "output_type": "stream",
     "text": [
      "(30000, 23)\n",
      "(30000, 1)\n"
     ]
    }
   ],
   "source": [
    "X = df[['LIMIT_BAL', 'SEX', 'EDUCATION', 'MARRIAGE', 'AGE', 'PAY_1',\n",
    "       'PAY_2', 'PAY_3', 'PAY_4', 'PAY_5', 'PAY_6', 'BILL_AMT1', 'BILL_AMT2',\n",
    "       'BILL_AMT3', 'BILL_AMT4', 'BILL_AMT5', 'BILL_AMT6', 'PAY_AMT1',\n",
    "       'PAY_AMT2', 'PAY_AMT3', 'PAY_AMT4', 'PAY_AMT5', 'PAY_AMT6']]\n",
    "Y = df[['pred_pay']]\n",
    "print(X.shape)\n",
    "print(Y.shape)"
   ]
  },
  {
   "cell_type": "code",
   "execution_count": 45,
   "metadata": {},
   "outputs": [],
   "source": [
    "# data cleaning \n",
    "for i, element in enumerate(df['AGE']):\n",
    "    df.loc[i,'AGE2']= str(element)[0]\n",
    "\n",
    "df.loc[df.MARRIAGE == 0, 'MARRIAGE'] = 3"
   ]
  },
  {
   "cell_type": "code",
   "execution_count": 46,
   "metadata": {
    "scrolled": true
   },
   "outputs": [
    {
     "data": {
      "text/html": [
       "<div>\n",
       "<style scoped>\n",
       "    .dataframe tbody tr th:only-of-type {\n",
       "        vertical-align: middle;\n",
       "    }\n",
       "\n",
       "    .dataframe tbody tr th {\n",
       "        vertical-align: top;\n",
       "    }\n",
       "\n",
       "    .dataframe thead th {\n",
       "        text-align: right;\n",
       "    }\n",
       "</style>\n",
       "<table border=\"1\" class=\"dataframe\">\n",
       "  <thead>\n",
       "    <tr style=\"text-align: right;\">\n",
       "      <th></th>\n",
       "      <th>SEX</th>\n",
       "      <th>pred_pay</th>\n",
       "    </tr>\n",
       "  </thead>\n",
       "  <tbody>\n",
       "    <tr>\n",
       "      <td>0</td>\n",
       "      <td>1</td>\n",
       "      <td>11888</td>\n",
       "    </tr>\n",
       "    <tr>\n",
       "      <td>1</td>\n",
       "      <td>2</td>\n",
       "      <td>18112</td>\n",
       "    </tr>\n",
       "  </tbody>\n",
       "</table>\n",
       "</div>"
      ],
      "text/plain": [
       "   SEX  pred_pay\n",
       "0    1     11888\n",
       "1    2     18112"
      ]
     },
     "execution_count": 46,
     "metadata": {},
     "output_type": "execute_result"
    }
   ],
   "source": [
    "df.groupby('SEX',as_index=False)['pred_pay'].count()"
   ]
  },
  {
   "cell_type": "code",
   "execution_count": 47,
   "metadata": {
    "scrolled": true
   },
   "outputs": [
    {
     "data": {
      "image/png": "[encoded data removed]",
      "text/plain": [
       "<Figure size 720x360 with 1 Axes>"
      ]
     },
     "metadata": {
      "needs_background": "light"
     },
     "output_type": "display_data"
    }
   ],
   "source": [
    "pd.crosstab(df.SEX,df.pred_pay).plot(kind=\"bar\",figsize=(10,5),color=['cyan','coral' ])\n",
    "plt.xlabel('Sex ( 1 = Male , 2 = Female)')\n",
    "plt.xticks(rotation=0)\n",
    "plt.legend([\"No:1\", \"Yes:0\"])\n",
    "plt.ylabel('Frequency')\n",
    "plt.show()"
   ]
  },
  {
   "cell_type": "code",
   "execution_count": 48,
   "metadata": {},
   "outputs": [
    {
     "data": {
      "text/plain": [
       "2    14030\n",
       "1    10585\n",
       "3     4917\n",
       "5      280\n",
       "4      123\n",
       "6       51\n",
       "0       14\n",
       "Name: EDUCATION, dtype: int64"
      ]
     },
     "execution_count": 48,
     "metadata": {},
     "output_type": "execute_result"
    }
   ],
   "source": [
    "\n",
    "df.EDUCATION.value_counts()\n"
   ]
  },
  {
   "cell_type": "code",
   "execution_count": 49,
   "metadata": {},
   "outputs": [],
   "source": [
    "fil = (df.EDUCATION == 5) | (df.EDUCATION == 6) | (df.EDUCATION == 0)\n",
    "df.loc[fil, 'EDUCATION'] = 4"
   ]
  },
  {
   "cell_type": "code",
   "execution_count": 50,
   "metadata": {
    "scrolled": false
   },
   "outputs": [
    {
     "data": {
      "text/plain": [
       "Text(0.5, 1.0, 'Education outliter by pred_pay')"
      ]
     },
     "execution_count": 50,
     "metadata": {},
     "output_type": "execute_result"
    },
    {
     "data": {
      "image/png": "[encoded data removed]",
      "text/plain": [
       "<Figure size 720x432 with 1 Axes>"
      ]
     },
     "metadata": {
      "needs_background": "light"
     },
     "output_type": "display_data"
    }
   ],
   "source": [
    "#OUTLIER\n",
    "plt.figure(figsize=(10,6))\n",
    "sns.boxplot(df['pred_pay'], df['EDUCATION'], palette = 'rainbow')\n",
    "plt.title('Education outliter by pred_pay', fontsize = 10)"
   ]
  },
  {
   "cell_type": "code",
   "execution_count": 51,
   "metadata": {
    "scrolled": true
   },
   "outputs": [
    {
     "data": {
      "text/plain": [
       "2    15964\n",
       "1    13659\n",
       "3      377\n",
       "Name: MARRIAGE, dtype: int64"
      ]
     },
     "execution_count": 51,
     "metadata": {},
     "output_type": "execute_result"
    }
   ],
   "source": [
    "\n",
    "df.MARRIAGE.value_counts()"
   ]
  },
  {
   "cell_type": "code",
   "execution_count": 52,
   "metadata": {},
   "outputs": [
    {
     "data": {
      "image/png": "[encoded data removed]",
      "text/plain": [
       "<Figure size 720x360 with 1 Axes>"
      ]
     },
     "metadata": {
      "needs_background": "light"
     },
     "output_type": "display_data"
    }
   ],
   "source": [
    "pd.crosstab(df.MARRIAGE,df.pred_pay).plot(kind=\"bar\",figsize=(10,5),color=['tomato','indigo' ])\n",
    "plt.xlabel('Marriage type')\n",
    "plt.xticks(rotation = 0)\n",
    "plt.ylabel('Default next month payment')\n",
    "plt.show()"
   ]
  },
  {
   "cell_type": "code",
   "execution_count": 53,
   "metadata": {},
   "outputs": [
    {
     "data": {
      "text/html": [
       "<div>\n",
       "<style scoped>\n",
       "    .dataframe tbody tr th:only-of-type {\n",
       "        vertical-align: middle;\n",
       "    }\n",
       "\n",
       "    .dataframe tbody tr th {\n",
       "        vertical-align: top;\n",
       "    }\n",
       "\n",
       "    .dataframe thead th {\n",
       "        text-align: right;\n",
       "    }\n",
       "</style>\n",
       "<table border=\"1\" class=\"dataframe\">\n",
       "  <thead>\n",
       "    <tr style=\"text-align: right;\">\n",
       "      <th></th>\n",
       "      <th>AGE2</th>\n",
       "      <th>pred_pay</th>\n",
       "    </tr>\n",
       "  </thead>\n",
       "  <tbody>\n",
       "    <tr>\n",
       "      <td>0</td>\n",
       "      <td>2</td>\n",
       "      <td>9618</td>\n",
       "    </tr>\n",
       "    <tr>\n",
       "      <td>1</td>\n",
       "      <td>3</td>\n",
       "      <td>11238</td>\n",
       "    </tr>\n",
       "    <tr>\n",
       "      <td>2</td>\n",
       "      <td>4</td>\n",
       "      <td>6464</td>\n",
       "    </tr>\n",
       "    <tr>\n",
       "      <td>3</td>\n",
       "      <td>5</td>\n",
       "      <td>2341</td>\n",
       "    </tr>\n",
       "    <tr>\n",
       "      <td>4</td>\n",
       "      <td>6</td>\n",
       "      <td>314</td>\n",
       "    </tr>\n",
       "    <tr>\n",
       "      <td>5</td>\n",
       "      <td>7</td>\n",
       "      <td>25</td>\n",
       "    </tr>\n",
       "  </tbody>\n",
       "</table>\n",
       "</div>"
      ],
      "text/plain": [
       "  AGE2  pred_pay\n",
       "0    2      9618\n",
       "1    3     11238\n",
       "2    4      6464\n",
       "3    5      2341\n",
       "4    6       314\n",
       "5    7        25"
      ]
     },
     "execution_count": 53,
     "metadata": {},
     "output_type": "execute_result"
    }
   ],
   "source": [
    "df.groupby('AGE2',as_index=False)['pred_pay'].count()"
   ]
  },
  {
   "cell_type": "code",
   "execution_count": 54,
   "metadata": {
    "scrolled": true
   },
   "outputs": [
    {
     "data": {
      "image/png": "[encoded data removed]",
      "text/plain": [
       "<Figure size 720x360 with 1 Axes>"
      ]
     },
     "metadata": {
      "needs_background": "light"
     },
     "output_type": "display_data"
    }
   ],
   "source": [
    "pd.crosstab(df.pred_pay , df.AGE2).plot(kind=\"bar\",figsize=(10,5),color=['YELLOW','PINK','blue','red','green','skyblue','grey' ])\n",
    "plt.title('Default_payment next month') #\n",
    "plt.xlabel('Default_payment next month')\n",
    "plt.ylabel('POP')\n",
    "plt.show()"
   ]
  },
  {
   "cell_type": "code",
   "execution_count": 55,
   "metadata": {},
   "outputs": [
    {
     "data": {
      "image/png": "[encoded data removed]",
      "text/plain": [
       "<Figure size 720x360 with 1 Axes>"
      ]
     },
     "metadata": {
      "needs_background": "light"
     },
     "output_type": "display_data"
    }
   ],
   "source": [
    "plt.figure(figsize=(10,5))\n",
    "plt.scatter(x=df.AGE[df.pred_pay==1],y=df.LIMIT_BAL[df.pred_pay==1],c='blue')\n",
    "plt.scatter(x=df.AGE[df.pred_pay==0],y=df.LIMIT_BAL[df.pred_pay==0],c='black')\n",
    "plt.xlabel('Age')\n",
    "plt.ylabel('LIMIT_BAL')\n",
    "plt.legend(['yes : 1','No : 0'])\n",
    "\n",
    "plt.show()"
   ]
  },
  {
   "cell_type": "code",
   "execution_count": 56,
   "metadata": {},
   "outputs": [],
   "source": [
    "df_copy = df.copy()\n",
    "SEX_DUM =pd.get_dummies(df['SEX'],prefix='SEX',drop_first=True)\n",
    "EDUCATION_DUM=pd.get_dummies(df['EDUCATION'],prefix='EDUCATION')\n",
    "AGE2_DUM=pd.get_dummies(df['AGE2'],prefix='AGE2')\n",
    "MARRIAGE_DUM=pd.get_dummies(df['MARRIAGE'],prefix='MARRIAGE')\n",
    "\n",
    "\n",
    "frames=[df_copy,SEX_DUM,EDUCATION_DUM,AGE2_DUM,MARRIAGE_DUM]\n",
    "df_copy=pd.concat(frames,axis=1)\n",
    "df_copy.drop(['SEX','EDUCATION','AGE2','MARRIAGE'],axis=1,inplace=True)"
   ]
  },
  {
   "cell_type": "code",
   "execution_count": 57,
   "metadata": {},
   "outputs": [
    {
     "name": "stdout",
     "output_type": "stream",
     "text": [
      "train x   (27000, 23)\n",
      "train y   (27000, 1)\n",
      "test x   (3000, 23)\n",
      "test y   (3000, 1)\n",
      "X_test_accuracy x   (1500, 23)\n",
      "y_test_accuracy y   (1500, 1)\n"
     ]
    }
   ],
   "source": [
    "#train the model with 90% + 10%\n",
    "X_train, X_test, y_train, y_test = train_test_split(X, Y, test_size=0.10, random_state=1234)\n",
    "print(\"train x  \"  , X_train.shape)\n",
    "print(\"train y  \"  , y_train.shape)\n",
    "print(\"test x  \"  , X_test.shape)\n",
    "print(\"test y  \"  , y_test.shape)\n",
    "\n",
    "#train the model with 10% = 5% + 5%\n",
    "X_test_accuracy, X_test_remain, y_test_accuracy, y_test_remain = train_test_split(X_test, y_test, test_size=0.50, random_state=1234)\n",
    "print(\"X_test_accuracy x  \"  , X_test_accuracy.shape)\n",
    "print(\"y_test_accuracy y  \"  , y_test_accuracy.shape)\n"
   ]
  },
  {
   "cell_type": "code",
   "execution_count": 58,
   "metadata": {},
   "outputs": [
    {
     "name": "stdout",
     "output_type": "stream",
     "text": [
      "train set accuracy 0.9993703703703704\n",
      "test set accuracy 0.713\n",
      "test accuracy set accuracy 0.7046666666666667\n"
     ]
    },
    {
     "data": {
      "text/plain": [
       "0.7046666666666667"
      ]
     },
     "execution_count": 58,
     "metadata": {},
     "output_type": "execute_result"
    }
   ],
   "source": [
    "classifier = DecisionTreeClassifier(random_state=100) \n",
    "classifier.fit(X_train, y_train)\n",
    "print(\"train set accuracy\" , format(classifier.score(X_train, y_train)))\n",
    "print(\"test set accuracy\" , format(classifier.score(X_test, y_test)))\n",
    "print(\"test accuracy set accuracy\" , format(classifier.score(X_test_accuracy, y_test_accuracy)))\n",
    "predictions = classifier.predict(X_test)\n",
    "accuracy_score(y_true = y_test, y_pred = predictions)\n",
    "\n",
    "predictions1 = classifier.predict(X_test_accuracy)\n",
    "accuracy_score(y_true = y_test_accuracy, y_pred = predictions1)"
   ]
  },
  {
   "cell_type": "code",
   "execution_count": 59,
   "metadata": {},
   "outputs": [
    {
     "data": {
      "text/plain": [
       "<bound method BaseEstimator.get_params of DecisionTreeClassifier(class_weight=None, criterion='gini', max_depth=None,\n",
       "                       max_features=None, max_leaf_nodes=None,\n",
       "                       min_impurity_decrease=0.0, min_impurity_split=None,\n",
       "                       min_samples_leaf=1, min_samples_split=2,\n",
       "                       min_weight_fraction_leaf=0.0, presort=False,\n",
       "                       random_state=100, splitter='best')>"
      ]
     },
     "execution_count": 59,
     "metadata": {},
     "output_type": "execute_result"
    }
   ],
   "source": [
    "classifier.get_params"
   ]
  },
  {
   "cell_type": "code",
   "execution_count": 73,
   "metadata": {},
   "outputs": [
    {
     "data": {
      "text/html": [
       "<div>\n",
       "<style scoped>\n",
       "    .dataframe tbody tr th:only-of-type {\n",
       "        vertical-align: middle;\n",
       "    }\n",
       "\n",
       "    .dataframe tbody tr th {\n",
       "        vertical-align: top;\n",
       "    }\n",
       "\n",
       "    .dataframe thead th {\n",
       "        text-align: right;\n",
       "    }\n",
       "</style>\n",
       "<table border=\"1\" class=\"dataframe\">\n",
       "  <thead>\n",
       "    <tr style=\"text-align: right;\">\n",
       "      <th></th>\n",
       "      <th>Criterion</th>\n",
       "      <th>Depth</th>\n",
       "      <th>MinLeafSize</th>\n",
       "      <th>TrainAccuracy</th>\n",
       "      <th>TestAccuracy</th>\n",
       "    </tr>\n",
       "  </thead>\n",
       "  <tbody>\n",
       "    <tr>\n",
       "      <td>0</td>\n",
       "      <td>gini</td>\n",
       "      <td>30</td>\n",
       "      <td>1</td>\n",
       "      <td>0.985778</td>\n",
       "      <td>0.731667</td>\n",
       "    </tr>\n",
       "    <tr>\n",
       "      <td>1</td>\n",
       "      <td>gini</td>\n",
       "      <td>30</td>\n",
       "      <td>2</td>\n",
       "      <td>0.956556</td>\n",
       "      <td>0.736667</td>\n",
       "    </tr>\n",
       "    <tr>\n",
       "      <td>2</td>\n",
       "      <td>gini</td>\n",
       "      <td>30</td>\n",
       "      <td>3</td>\n",
       "      <td>0.936333</td>\n",
       "      <td>0.726667</td>\n",
       "    </tr>\n",
       "    <tr>\n",
       "      <td>3</td>\n",
       "      <td>gini</td>\n",
       "      <td>30</td>\n",
       "      <td>4</td>\n",
       "      <td>0.917407</td>\n",
       "      <td>0.740667</td>\n",
       "    </tr>\n",
       "    <tr>\n",
       "      <td>4</td>\n",
       "      <td>gini</td>\n",
       "      <td>30</td>\n",
       "      <td>5</td>\n",
       "      <td>0.903741</td>\n",
       "      <td>0.740667</td>\n",
       "    </tr>\n",
       "    <tr>\n",
       "      <td>5</td>\n",
       "      <td>gini</td>\n",
       "      <td>30</td>\n",
       "      <td>6</td>\n",
       "      <td>0.891593</td>\n",
       "      <td>0.748333</td>\n",
       "    </tr>\n",
       "    <tr>\n",
       "      <td>6</td>\n",
       "      <td>entropy</td>\n",
       "      <td>30</td>\n",
       "      <td>1</td>\n",
       "      <td>0.988481</td>\n",
       "      <td>0.724667</td>\n",
       "    </tr>\n",
       "    <tr>\n",
       "      <td>7</td>\n",
       "      <td>entropy</td>\n",
       "      <td>30</td>\n",
       "      <td>2</td>\n",
       "      <td>0.963370</td>\n",
       "      <td>0.744667</td>\n",
       "    </tr>\n",
       "    <tr>\n",
       "      <td>8</td>\n",
       "      <td>entropy</td>\n",
       "      <td>30</td>\n",
       "      <td>3</td>\n",
       "      <td>0.948407</td>\n",
       "      <td>0.736667</td>\n",
       "    </tr>\n",
       "    <tr>\n",
       "      <td>9</td>\n",
       "      <td>entropy</td>\n",
       "      <td>30</td>\n",
       "      <td>4</td>\n",
       "      <td>0.929000</td>\n",
       "      <td>0.738333</td>\n",
       "    </tr>\n",
       "    <tr>\n",
       "      <td>10</td>\n",
       "      <td>entropy</td>\n",
       "      <td>30</td>\n",
       "      <td>5</td>\n",
       "      <td>0.916037</td>\n",
       "      <td>0.737333</td>\n",
       "    </tr>\n",
       "    <tr>\n",
       "      <td>11</td>\n",
       "      <td>entropy</td>\n",
       "      <td>30</td>\n",
       "      <td>6</td>\n",
       "      <td>0.903074</td>\n",
       "      <td>0.744667</td>\n",
       "    </tr>\n",
       "  </tbody>\n",
       "</table>\n",
       "</div>"
      ],
      "text/plain": [
       "   Criterion  Depth  MinLeafSize  TrainAccuracy  TestAccuracy\n",
       "0       gini     30            1       0.985778      0.731667\n",
       "1       gini     30            2       0.956556      0.736667\n",
       "2       gini     30            3       0.936333      0.726667\n",
       "3       gini     30            4       0.917407      0.740667\n",
       "4       gini     30            5       0.903741      0.740667\n",
       "5       gini     30            6       0.891593      0.748333\n",
       "6    entropy     30            1       0.988481      0.724667\n",
       "7    entropy     30            2       0.963370      0.744667\n",
       "8    entropy     30            3       0.948407      0.736667\n",
       "9    entropy     30            4       0.929000      0.738333\n",
       "10   entropy     30            5       0.916037      0.737333\n",
       "11   entropy     30            6       0.903074      0.744667"
      ]
     },
     "execution_count": 73,
     "metadata": {},
     "output_type": "execute_result"
    }
   ],
   "source": [
    "train_result = []\n",
    "test_result  = []\n",
    "model_criterion = []\n",
    "model_max_depth = []\n",
    "parameter_min_leaf = []\n",
    "\n",
    "insert_criterion = ['gini','entropy']\n",
    "max_depth = 30\n",
    "list_min_leaf = [i for i in range(1,7)]\n",
    "for i in insert_criterion:\n",
    "    for n in list_min_leaf:\n",
    "        tree = DecisionTreeClassifier(criterion=i,max_depth=max_depth,min_samples_leaf=n,random_state = 1000)\n",
    "        tree.fit(X_train, y_train)\n",
    "        train_result.append(tree.score(X_train, y_train))\n",
    "        test_result.append(tree.score(X_test,y_test))\n",
    "        model_criterion.append(i)\n",
    "        model_max_depth.append(max_depth)\n",
    "        parameter_min_leaf.append(n)\n",
    "\n",
    "result = pd.DataFrame()\n",
    "result['Criterion'] = model_criterion\n",
    "result['Depth'] = max_depth\n",
    "result['MinLeafSize'] = parameter_min_leaf\n",
    "result['TrainAccuracy'] = train_result\n",
    "result['TestAccuracy'] = test_result\n",
    "result"
   ]
  },
  {
   "cell_type": "code",
   "execution_count": 85,
   "metadata": {},
   "outputs": [
    {
     "data": {
      "text/plain": [
       "<matplotlib.axes._subplots.AxesSubplot at 0x1519424d708>"
      ]
     },
     "execution_count": 85,
     "metadata": {},
     "output_type": "execute_result"
    },
    {
     "data": {
      "image/png": "[encoded data removed]",
      "text/plain": [
       "<Figure size 1224x360 with 1 Axes>"
      ]
     },
     "metadata": {
      "needs_background": "light"
     },
     "output_type": "display_data"
    }
   ],
   "source": [
    "#to visualize by using melt function for finding accuracy of test and train\n",
    "fig, axs = plt.subplots(figsize=(17, 5))\n",
    "result_melt = pd.melt(result, id_vars=['Criterion','Depth','MinLeafSize'])\n",
    "result_melt['Accuracy'] =  result_melt['Criterion']+'_'+result_melt['variable']\n",
    "sns.pointplot(data=result_melt,x='MinLeafSize',y='value',hue='Accuracy')"
   ]
  },
  {
   "cell_type": "code",
   "execution_count": 62,
   "metadata": {},
   "outputs": [],
   "source": [
    "#it seems Entropy model get fitting."
   ]
  },
  {
   "cell_type": "code",
   "execution_count": 74,
   "metadata": {},
   "outputs": [
    {
     "name": "stdout",
     "output_type": "stream",
     "text": [
      "train set accuracy 0.8712962962962963\n",
      "test set accuracy 0.759\n"
     ]
    }
   ],
   "source": [
    "model = DecisionTreeClassifier(criterion='gini',max_depth=30,min_samples_leaf=9,random_state = 1000)\n",
    "model.fit(X_train, y_train)\n",
    "print(\"train set accuracy\" , format(model.score(X_train, y_train)))\n",
    "print(\"test set accuracy\" , format(model.score(X_test, y_test)))"
   ]
  },
  {
   "cell_type": "code",
   "execution_count": 75,
   "metadata": {
    "scrolled": false
   },
   "outputs": [
    {
     "name": "stdout",
     "output_type": "stream",
     "text": [
      "dot: graph is too large for cairo-renderer bitmaps. Scaling by 0.44342 to fit\r\n",
      "\n"
     ]
    },
    {
     "data": {
      "text/plain": [
       "True"
      ]
     },
     "execution_count": 75,
     "metadata": {},
     "output_type": "execute_result"
    }
   ],
   "source": [
    "\"\"\"\n",
    "from sklearn import tree\n",
    "import graphviz \n",
    "from graphviz import Graph\n",
    "dot_data = tree.export_graphviz(model,out_file=None,feature_names=X.columns,\n",
    "                                impurity = False, filled = True,class_names=['0','1'])\n",
    "graph = graphviz.Source(dot_data)  \n",
    "#g = Graph(format='png')\n",
    "#graph\n",
    "\"\"\"\n",
    "from sklearn.tree import export_graphviz\n",
    "from sklearn.externals.six import StringIO  \n",
    "import pydotplus\n",
    "\n",
    "dot_data = StringIO()\n",
    "export_graphviz(model, out_file=dot_data,  \n",
    "                filled=True, rounded=True,\n",
    "                special_characters=True,feature_names = X.columns,class_names=['0','1'])\n",
    "graph = pydotplus.graph_from_dot_data(dot_data.getvalue())  \n",
    "graph.write_png('my_decision_tree.png')"
   ]
  },
  {
   "cell_type": "code",
   "execution_count": 76,
   "metadata": {},
   "outputs": [],
   "source": [
    "#print(df.describe())"
   ]
  },
  {
   "cell_type": "code",
   "execution_count": 77,
   "metadata": {},
   "outputs": [
    {
     "data": {
      "text/html": [
       "<div>\n",
       "<style scoped>\n",
       "    .dataframe tbody tr th:only-of-type {\n",
       "        vertical-align: middle;\n",
       "    }\n",
       "\n",
       "    .dataframe tbody tr th {\n",
       "        vertical-align: top;\n",
       "    }\n",
       "\n",
       "    .dataframe thead th {\n",
       "        text-align: right;\n",
       "    }\n",
       "</style>\n",
       "<table border=\"1\" class=\"dataframe\">\n",
       "  <thead>\n",
       "    <tr style=\"text-align: right;\">\n",
       "      <th></th>\n",
       "      <th>ID</th>\n",
       "      <th>LIMIT_BAL</th>\n",
       "      <th>AGE</th>\n",
       "      <th>PAY_1</th>\n",
       "      <th>PAY_2</th>\n",
       "      <th>PAY_3</th>\n",
       "      <th>PAY_4</th>\n",
       "      <th>PAY_5</th>\n",
       "      <th>PAY_6</th>\n",
       "      <th>BILL_AMT1</th>\n",
       "      <th>...</th>\n",
       "      <th>EDUCATION_4</th>\n",
       "      <th>AGE2_2</th>\n",
       "      <th>AGE2_3</th>\n",
       "      <th>AGE2_4</th>\n",
       "      <th>AGE2_5</th>\n",
       "      <th>AGE2_6</th>\n",
       "      <th>AGE2_7</th>\n",
       "      <th>MARRIAGE_1</th>\n",
       "      <th>MARRIAGE_2</th>\n",
       "      <th>MARRIAGE_3</th>\n",
       "    </tr>\n",
       "  </thead>\n",
       "  <tbody>\n",
       "    <tr>\n",
       "      <td>0</td>\n",
       "      <td>1</td>\n",
       "      <td>20000.0</td>\n",
       "      <td>24</td>\n",
       "      <td>2</td>\n",
       "      <td>2</td>\n",
       "      <td>-1</td>\n",
       "      <td>-1</td>\n",
       "      <td>-2</td>\n",
       "      <td>-2</td>\n",
       "      <td>3913.0</td>\n",
       "      <td>...</td>\n",
       "      <td>0</td>\n",
       "      <td>1</td>\n",
       "      <td>0</td>\n",
       "      <td>0</td>\n",
       "      <td>0</td>\n",
       "      <td>0</td>\n",
       "      <td>0</td>\n",
       "      <td>1</td>\n",
       "      <td>0</td>\n",
       "      <td>0</td>\n",
       "    </tr>\n",
       "    <tr>\n",
       "      <td>1</td>\n",
       "      <td>2</td>\n",
       "      <td>120000.0</td>\n",
       "      <td>26</td>\n",
       "      <td>-1</td>\n",
       "      <td>2</td>\n",
       "      <td>0</td>\n",
       "      <td>0</td>\n",
       "      <td>0</td>\n",
       "      <td>2</td>\n",
       "      <td>2682.0</td>\n",
       "      <td>...</td>\n",
       "      <td>0</td>\n",
       "      <td>1</td>\n",
       "      <td>0</td>\n",
       "      <td>0</td>\n",
       "      <td>0</td>\n",
       "      <td>0</td>\n",
       "      <td>0</td>\n",
       "      <td>0</td>\n",
       "      <td>1</td>\n",
       "      <td>0</td>\n",
       "    </tr>\n",
       "    <tr>\n",
       "      <td>2</td>\n",
       "      <td>3</td>\n",
       "      <td>90000.0</td>\n",
       "      <td>34</td>\n",
       "      <td>0</td>\n",
       "      <td>0</td>\n",
       "      <td>0</td>\n",
       "      <td>0</td>\n",
       "      <td>0</td>\n",
       "      <td>0</td>\n",
       "      <td>29239.0</td>\n",
       "      <td>...</td>\n",
       "      <td>0</td>\n",
       "      <td>0</td>\n",
       "      <td>1</td>\n",
       "      <td>0</td>\n",
       "      <td>0</td>\n",
       "      <td>0</td>\n",
       "      <td>0</td>\n",
       "      <td>0</td>\n",
       "      <td>1</td>\n",
       "      <td>0</td>\n",
       "    </tr>\n",
       "    <tr>\n",
       "      <td>3</td>\n",
       "      <td>4</td>\n",
       "      <td>50000.0</td>\n",
       "      <td>37</td>\n",
       "      <td>0</td>\n",
       "      <td>0</td>\n",
       "      <td>0</td>\n",
       "      <td>0</td>\n",
       "      <td>0</td>\n",
       "      <td>0</td>\n",
       "      <td>46990.0</td>\n",
       "      <td>...</td>\n",
       "      <td>0</td>\n",
       "      <td>0</td>\n",
       "      <td>1</td>\n",
       "      <td>0</td>\n",
       "      <td>0</td>\n",
       "      <td>0</td>\n",
       "      <td>0</td>\n",
       "      <td>1</td>\n",
       "      <td>0</td>\n",
       "      <td>0</td>\n",
       "    </tr>\n",
       "    <tr>\n",
       "      <td>4</td>\n",
       "      <td>5</td>\n",
       "      <td>50000.0</td>\n",
       "      <td>57</td>\n",
       "      <td>-1</td>\n",
       "      <td>0</td>\n",
       "      <td>-1</td>\n",
       "      <td>0</td>\n",
       "      <td>0</td>\n",
       "      <td>0</td>\n",
       "      <td>8617.0</td>\n",
       "      <td>...</td>\n",
       "      <td>0</td>\n",
       "      <td>0</td>\n",
       "      <td>0</td>\n",
       "      <td>0</td>\n",
       "      <td>1</td>\n",
       "      <td>0</td>\n",
       "      <td>0</td>\n",
       "      <td>1</td>\n",
       "      <td>0</td>\n",
       "      <td>0</td>\n",
       "    </tr>\n",
       "  </tbody>\n",
       "</table>\n",
       "<p>5 rows × 36 columns</p>\n",
       "</div>"
      ],
      "text/plain": [
       "   ID  LIMIT_BAL  AGE  PAY_1  PAY_2  PAY_3  PAY_4  PAY_5  PAY_6  BILL_AMT1  \\\n",
       "0   1    20000.0   24      2      2     -1     -1     -2     -2     3913.0   \n",
       "1   2   120000.0   26     -1      2      0      0      0      2     2682.0   \n",
       "2   3    90000.0   34      0      0      0      0      0      0    29239.0   \n",
       "3   4    50000.0   37      0      0      0      0      0      0    46990.0   \n",
       "4   5    50000.0   57     -1      0     -1      0      0      0     8617.0   \n",
       "\n",
       "   ...  EDUCATION_4  AGE2_2  AGE2_3  AGE2_4  AGE2_5  AGE2_6  AGE2_7  \\\n",
       "0  ...            0       1       0       0       0       0       0   \n",
       "1  ...            0       1       0       0       0       0       0   \n",
       "2  ...            0       0       1       0       0       0       0   \n",
       "3  ...            0       0       1       0       0       0       0   \n",
       "4  ...            0       0       0       0       1       0       0   \n",
       "\n",
       "   MARRIAGE_1  MARRIAGE_2  MARRIAGE_3  \n",
       "0           1           0           0  \n",
       "1           0           1           0  \n",
       "2           0           1           0  \n",
       "3           1           0           0  \n",
       "4           1           0           0  \n",
       "\n",
       "[5 rows x 36 columns]"
      ]
     },
     "execution_count": 77,
     "metadata": {},
     "output_type": "execute_result"
    }
   ],
   "source": [
    "df_copy.head(5)"
   ]
  },
  {
   "cell_type": "code",
   "execution_count": 78,
   "metadata": {},
   "outputs": [],
   "source": [
    "X = df_copy.drop(['pred_pay'], axis = 1)\n",
    "y = df_copy.pred_pay.values"
   ]
  },
  {
   "cell_type": "code",
   "execution_count": 79,
   "metadata": {},
   "outputs": [],
   "source": [
    "from sklearn.model_selection import train_test_split\n",
    "X_train, X_test, y_train, y_test = train_test_split(X, y, test_size = 0.10, random_state = 0)\n",
    "X_test_accuracy, X_test, X_test_accuracy, y_test = train_test_split(X_test, y_test, test_size = 0.50, random_state = 0)"
   ]
  },
  {
   "cell_type": "code",
   "execution_count": 80,
   "metadata": {
    "scrolled": true
   },
   "outputs": [],
   "source": [
    "from sklearn.preprocessing import StandardScaler\n",
    "sc = StandardScaler()\n",
    "X_train = sc.fit_transform(X_train)\n",
    "X_test = sc.transform(X_test)\n"
   ]
  },
  {
   "cell_type": "code",
   "execution_count": 81,
   "metadata": {},
   "outputs": [],
   "source": [
    "df_copy.count()\n",
    "df_copy.dropna()\n",
    "import tensorflow as tf"
   ]
  },
  {
   "cell_type": "code",
   "execution_count": 82,
   "metadata": {},
   "outputs": [],
   "source": [
    "from keras.models import Sequential\n",
    "from keras.layers import Conv2D, MaxPooling2D\n",
    "from keras.layers import Activation, Dropout, Flatten, Dense\n",
    "import keras\n",
    "from keras.models import Sequential\n",
    "from keras.layers import Dense\n",
    "import warnings"
   ]
  },
  {
   "cell_type": "code",
   "execution_count": 83,
   "metadata": {},
   "outputs": [],
   "source": [
    "classifier = Sequential()\n",
    "\n",
    "# Adding the input layer and the first hidden layer\n",
    "#classifier.add(Dense(output_dim = 11, kernel_initializer = 'uniform', activation = 'relu', input_dim = 22))\n",
    "\n",
    "\n",
    "classifier.add(Dense(units = 11, kernel_initializer = 'uniform', activation = 'relu', input_dim = 35))\n",
    "classifier.add(Dense(units = 11, kernel_initializer = 'uniform', activation = 'relu'))\n",
    "\n",
    "# Adding the output layer\n",
    "classifier.add(Dense(units = 1, kernel_initializer = 'uniform', activation = 'sigmoid'))\n",
    "\n",
    "# Compiling the ANN\n",
    "classifier.compile(optimizer = 'adam', loss = 'binary_crossentropy', metrics = ['accuracy'])"
   ]
  },
  {
   "cell_type": "code",
   "execution_count": 84,
   "metadata": {},
   "outputs": [
    {
     "name": "stderr",
     "output_type": "stream",
     "text": [
      "C:\\Users\\maiji\\Anaconda3\\lib\\site-packages\\ipykernel_launcher.py:1: UserWarning: The `nb_epoch` argument in `fit` has been renamed `epochs`.\n",
      "  \"\"\"Entry point for launching an IPython kernel.\n"
     ]
    },
    {
     "name": "stdout",
     "output_type": "stream",
     "text": [
      "Epoch 1/100\n",
      "27000/27000 [==============================] - 4s 131us/step - loss: 0.4889 - accuracy: 0.7784\n",
      "Epoch 2/100\n",
      "27000/27000 [==============================] - 3s 128us/step - loss: 0.4710 - accuracy: 0.8011\n",
      "Epoch 3/100\n",
      "27000/27000 [==============================] - 4s 131us/step - loss: 0.4684 - accuracy: 0.8070\n",
      "Epoch 4/100\n",
      "27000/27000 [==============================] - 3s 122us/step - loss: 0.4674 - accuracy: 0.8083\n",
      "Epoch 5/100\n",
      "27000/27000 [==============================] - 3s 129us/step - loss: 0.4668 - accuracy: 0.8096\n",
      "Epoch 6/100\n",
      "27000/27000 [==============================] - 3s 125us/step - loss: 0.4654 - accuracy: 0.8091\n",
      "Epoch 7/100\n",
      "27000/27000 [==============================] - 4s 131us/step - loss: 0.4582 - accuracy: 0.8155\n",
      "Epoch 8/100\n",
      "27000/27000 [==============================] - 4s 146us/step - loss: 0.4492 - accuracy: 0.8176\n",
      "Epoch 9/100\n",
      "27000/27000 [==============================] - 6s 210us/step - loss: 0.4438 - accuracy: 0.8182\n",
      "Epoch 10/100\n",
      "27000/27000 [==============================] - 6s 220us/step - loss: 0.4409 - accuracy: 0.8194\n",
      "Epoch 11/100\n",
      "27000/27000 [==============================] - 5s 199us/step - loss: 0.4397 - accuracy: 0.8199\n",
      "Epoch 12/100\n",
      "27000/27000 [==============================] - 5s 192us/step - loss: 0.4391 - accuracy: 0.8196\n",
      "Epoch 13/100\n",
      "27000/27000 [==============================] - 4s 148us/step - loss: 0.4391 - accuracy: 0.8191\n",
      "Epoch 14/100\n",
      "27000/27000 [==============================] - 4s 143us/step - loss: 0.4380 - accuracy: 0.8204\n",
      "Epoch 15/100\n",
      "27000/27000 [==============================] - 4s 160us/step - loss: 0.4382 - accuracy: 0.8193\n",
      "Epoch 16/100\n",
      "27000/27000 [==============================] - 4s 140us/step - loss: 0.4373 - accuracy: 0.8202\n",
      "Epoch 17/100\n",
      "27000/27000 [==============================] - 5s 168us/step - loss: 0.4366 - accuracy: 0.8201\n",
      "Epoch 18/100\n",
      "27000/27000 [==============================] - 4s 160us/step - loss: 0.4371 - accuracy: 0.8207\n",
      "Epoch 19/100\n",
      "27000/27000 [==============================] - 3s 129us/step - loss: 0.4358 - accuracy: 0.8210\n",
      "Epoch 20/100\n",
      "27000/27000 [==============================] - 4s 134us/step - loss: 0.4362 - accuracy: 0.8201\n",
      "Epoch 21/100\n",
      "27000/27000 [==============================] - 4s 138us/step - loss: 0.4359 - accuracy: 0.8208\n",
      "Epoch 22/100\n",
      "27000/27000 [==============================] - ETA: 0s - loss: 0.4359 - accuracy: 0.82 - 4s 139us/step - loss: 0.4360 - accuracy: 0.8213\n",
      "Epoch 23/100\n",
      "27000/27000 [==============================] - 4s 143us/step - loss: 0.4358 - accuracy: 0.8205\n",
      "Epoch 24/100\n",
      "27000/27000 [==============================] - 4s 134us/step - loss: 0.4354 - accuracy: 0.8200\n",
      "Epoch 25/100\n",
      "27000/27000 [==============================] - 4s 155us/step - loss: 0.4349 - accuracy: 0.8198\n",
      "Epoch 26/100\n",
      "27000/27000 [==============================] - 4s 143us/step - loss: 0.4345 - accuracy: 0.8202\n",
      "Epoch 27/100\n",
      "27000/27000 [==============================] - 4s 138us/step - loss: 0.4347 - accuracy: 0.8210\n",
      "Epoch 28/100\n",
      "27000/27000 [==============================] - 4s 142us/step - loss: 0.4342 - accuracy: 0.8211\n",
      "Epoch 29/100\n",
      "27000/27000 [==============================] - 4s 144us/step - loss: 0.4345 - accuracy: 0.8203\n",
      "Epoch 30/100\n",
      "27000/27000 [==============================] - 4s 143us/step - loss: 0.4343 - accuracy: 0.8211\n",
      "Epoch 31/100\n",
      "27000/27000 [==============================] - 4s 148us/step - loss: 0.4338 - accuracy: 0.8208\n",
      "Epoch 32/100\n",
      "27000/27000 [==============================] - 4s 139us/step - loss: 0.4343 - accuracy: 0.8209\n",
      "Epoch 33/100\n",
      "27000/27000 [==============================] - 4s 142us/step - loss: 0.4341 - accuracy: 0.8211\n",
      "Epoch 34/100\n",
      "27000/27000 [==============================] - 4s 141us/step - loss: 0.4339 - accuracy: 0.8200\n",
      "Epoch 35/100\n",
      "27000/27000 [==============================] - 4s 130us/step - loss: 0.4340 - accuracy: 0.8211\n",
      "Epoch 36/100\n",
      "27000/27000 [==============================] - 4s 140us/step - loss: 0.4337 - accuracy: 0.8201\n",
      "Epoch 37/100\n",
      "27000/27000 [==============================] - 5s 186us/step - loss: 0.4334 - accuracy: 0.8207\n",
      "Epoch 38/100\n",
      "27000/27000 [==============================] - 6s 226us/step - loss: 0.4340 - accuracy: 0.8203\n",
      "Epoch 39/100\n",
      "27000/27000 [==============================] - 5s 186us/step - loss: 0.4337 - accuracy: 0.8201\n",
      "Epoch 40/100\n",
      "27000/27000 [==============================] - 4s 163us/step - loss: 0.4332 - accuracy: 0.8207\n",
      "Epoch 41/100\n",
      "27000/27000 [==============================] - 4s 152us/step - loss: 0.4335 - accuracy: 0.8206\n",
      "Epoch 42/100\n",
      "27000/27000 [==============================] - 4s 143us/step - loss: 0.4335 - accuracy: 0.8214\n",
      "Epoch 43/100\n",
      "27000/27000 [==============================] - 4s 140us/step - loss: 0.4333 - accuracy: 0.8206\n",
      "Epoch 44/100\n",
      "27000/27000 [==============================] - 4s 147us/step - loss: 0.4332 - accuracy: 0.8209\n",
      "Epoch 45/100\n",
      "27000/27000 [==============================] - 4s 152us/step - loss: 0.4335 - accuracy: 0.8216\n",
      "Epoch 46/100\n",
      "27000/27000 [==============================] - 4s 145us/step - loss: 0.4331 - accuracy: 0.8213\n",
      "Epoch 47/100\n",
      "27000/27000 [==============================] - 4s 150us/step - loss: 0.4335 - accuracy: 0.8217\n",
      "Epoch 48/100\n",
      "27000/27000 [==============================] - 4s 137us/step - loss: 0.4335 - accuracy: 0.8207\n",
      "Epoch 49/100\n",
      "27000/27000 [==============================] - 3s 129us/step - loss: 0.4334 - accuracy: 0.8200\n",
      "Epoch 50/100\n",
      "27000/27000 [==============================] - 4s 140us/step - loss: 0.4335 - accuracy: 0.8217\n",
      "Epoch 51/100\n",
      "27000/27000 [==============================] - 4s 135us/step - loss: 0.4330 - accuracy: 0.8206\n",
      "Epoch 52/100\n",
      "27000/27000 [==============================] - 4s 148us/step - loss: 0.4330 - accuracy: 0.8203\n",
      "Epoch 53/100\n",
      "27000/27000 [==============================] - 4s 144us/step - loss: 0.4327 - accuracy: 0.8208\n",
      "Epoch 54/100\n",
      "27000/27000 [==============================] - 3s 128us/step - loss: 0.4330 - accuracy: 0.8209\n",
      "Epoch 55/100\n",
      "27000/27000 [==============================] - 4s 146us/step - loss: 0.4333 - accuracy: 0.8209\n",
      "Epoch 56/100\n",
      "27000/27000 [==============================] - 4s 138us/step - loss: 0.4327 - accuracy: 0.8217\n",
      "Epoch 57/100\n",
      "27000/27000 [==============================] - 4s 136us/step - loss: 0.4331 - accuracy: 0.8211\n",
      "Epoch 58/100\n",
      "27000/27000 [==============================] - 4s 157us/step - loss: 0.4325 - accuracy: 0.8213\n",
      "Epoch 59/100\n",
      "27000/27000 [==============================] - 4s 152us/step - loss: 0.4329 - accuracy: 0.8207\n",
      "Epoch 60/100\n",
      "27000/27000 [==============================] - 4s 145us/step - loss: 0.4327 - accuracy: 0.8212\n",
      "Epoch 61/100\n",
      "27000/27000 [==============================] - 4s 154us/step - loss: 0.4325 - accuracy: 0.8203\n",
      "Epoch 62/100\n",
      "27000/27000 [==============================] - 4s 141us/step - loss: 0.4326 - accuracy: 0.8217\n",
      "Epoch 63/100\n",
      "27000/27000 [==============================] - 4s 144us/step - loss: 0.4324 - accuracy: 0.8205\n",
      "Epoch 64/100\n",
      "27000/27000 [==============================] - 4s 145us/step - loss: 0.4323 - accuracy: 0.8213\n",
      "Epoch 65/100\n",
      "27000/27000 [==============================] - 4s 158us/step - loss: 0.4325 - accuracy: 0.8204\n",
      "Epoch 66/100\n",
      "27000/27000 [==============================] - 4s 146us/step - loss: 0.4321 - accuracy: 0.8212\n",
      "Epoch 67/100\n",
      "27000/27000 [==============================] - 4s 141us/step - loss: 0.4321 - accuracy: 0.8207\n",
      "Epoch 68/100\n",
      "27000/27000 [==============================] - 4s 150us/step - loss: 0.4321 - accuracy: 0.8216\n",
      "Epoch 69/100\n",
      "27000/27000 [==============================] - 4s 141us/step - loss: 0.4311 - accuracy: 0.8221\n",
      "Epoch 70/100\n",
      "27000/27000 [==============================] - 4s 164us/step - loss: 0.4312 - accuracy: 0.8220\n",
      "Epoch 71/100\n",
      "27000/27000 [==============================] - 4s 155us/step - loss: 0.4306 - accuracy: 0.8215\n",
      "Epoch 72/100\n",
      "27000/27000 [==============================] - 4s 149us/step - loss: 0.4309 - accuracy: 0.8204\n",
      "Epoch 73/100\n",
      "27000/27000 [==============================] - 4s 149us/step - loss: 0.4297 - accuracy: 0.8212\n",
      "Epoch 74/100\n",
      "27000/27000 [==============================] - 4s 144us/step - loss: 0.4296 - accuracy: 0.8217\n",
      "Epoch 75/100\n",
      "27000/27000 [==============================] - 4s 137us/step - loss: 0.4292 - accuracy: 0.8214\n",
      "Epoch 76/100\n"
     ]
    },
    {
     "name": "stdout",
     "output_type": "stream",
     "text": [
      "27000/27000 [==============================] - 4s 139us/step - loss: 0.4291 - accuracy: 0.8217\n",
      "Epoch 77/100\n",
      "27000/27000 [==============================] - 4s 143us/step - loss: 0.4288 - accuracy: 0.8213\n",
      "Epoch 78/100\n",
      "27000/27000 [==============================] - 4s 137us/step - loss: 0.4292 - accuracy: 0.8206\n",
      "Epoch 79/100\n",
      "27000/27000 [==============================] - 4s 132us/step - loss: 0.4291 - accuracy: 0.8211\n",
      "Epoch 80/100\n",
      "27000/27000 [==============================] - 4s 132us/step - loss: 0.4287 - accuracy: 0.8217\n",
      "Epoch 81/100\n",
      "27000/27000 [==============================] - 3s 128us/step - loss: 0.4281 - accuracy: 0.8220\n",
      "Epoch 82/100\n",
      "27000/27000 [==============================] - 4s 130us/step - loss: 0.4281 - accuracy: 0.8219\n",
      "Epoch 83/100\n",
      "27000/27000 [==============================] - 4s 142us/step - loss: 0.4284 - accuracy: 0.8213\n",
      "Epoch 84/100\n",
      "27000/27000 [==============================] - 4s 144us/step - loss: 0.4282 - accuracy: 0.8223\n",
      "Epoch 85/100\n",
      "27000/27000 [==============================] - 4s 153us/step - loss: 0.4283 - accuracy: 0.8218\n",
      "Epoch 86/100\n",
      "27000/27000 [==============================] - 4s 135us/step - loss: 0.4277 - accuracy: 0.8210\n",
      "Epoch 87/100\n",
      "27000/27000 [==============================] - 4s 133us/step - loss: 0.4278 - accuracy: 0.8206\n",
      "Epoch 88/100\n",
      "27000/27000 [==============================] - 4s 130us/step - loss: 0.4272 - accuracy: 0.8217\n",
      "Epoch 89/100\n",
      "27000/27000 [==============================] - 4s 148us/step - loss: 0.4275 - accuracy: 0.8203\n",
      "Epoch 90/100\n",
      "27000/27000 [==============================] - 4s 137us/step - loss: 0.4273 - accuracy: 0.8209\n",
      "Epoch 91/100\n",
      "27000/27000 [==============================] - 4s 163us/step - loss: 0.4274 - accuracy: 0.8217\n",
      "Epoch 92/100\n",
      "27000/27000 [==============================] - 5s 202us/step - loss: 0.4271 - accuracy: 0.8226\n",
      "Epoch 93/100\n",
      "27000/27000 [==============================] - 4s 152us/step - loss: 0.4267 - accuracy: 0.8213\n",
      "Epoch 94/100\n",
      "27000/27000 [==============================] - 4s 144us/step - loss: 0.4267 - accuracy: 0.8211\n",
      "Epoch 95/100\n",
      "27000/27000 [==============================] - 3s 128us/step - loss: 0.4269 - accuracy: 0.8217\n",
      "Epoch 96/100\n",
      "27000/27000 [==============================] - 4s 130us/step - loss: 0.4263 - accuracy: 0.8211\n",
      "Epoch 97/100\n",
      "27000/27000 [==============================] - 4s 137us/step - loss: 0.4269 - accuracy: 0.8209\n",
      "Epoch 98/100\n",
      "27000/27000 [==============================] - 3s 128us/step - loss: 0.4270 - accuracy: 0.8216\n",
      "Epoch 99/100\n",
      "27000/27000 [==============================] - 4s 138us/step - loss: 0.4269 - accuracy: 0.8217\n",
      "Epoch 100/100\n",
      "27000/27000 [==============================] - 4s 144us/step - loss: 0.4263 - accuracy: 0.8216\n"
     ]
    },
    {
     "data": {
      "text/plain": [
       "<keras.callbacks.callbacks.History at 0x15194091348>"
      ]
     },
     "execution_count": 84,
     "metadata": {},
     "output_type": "execute_result"
    }
   ],
   "source": [
    "classifier.fit(X_train, y_train, batch_size = 10, nb_epoch = 100)"
   ]
  },
  {
   "cell_type": "code",
   "execution_count": null,
   "metadata": {},
   "outputs": [],
   "source": []
  }
 ],
 "metadata": {
  "kernelspec": {
   "display_name": "Python 3",
   "language": "python",
   "name": "python3"
  },
  "language_info": {
   "codemirror_mode": {
    "name": "ipython",
    "version": 3
   },
   "file_extension": ".py",
   "mimetype": "text/x-python",
   "name": "python",
   "nbconvert_exporter": "python",
   "pygments_lexer": "ipython3",
   "version": "3.7.4"
  }
 },
 "nbformat": 4,
 "nbformat_minor": 2
}
